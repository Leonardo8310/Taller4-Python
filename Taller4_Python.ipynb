{
 "cells": [
  {
   "cell_type": "markdown",
   "metadata": {},
   "source": [
    "# Ejercicio 1\n",
    "## La Palabra de 100 Puntos.\n",
    "\n",
    "Este progrma realiza un calculo a las palabras ingresadas por el usuario, esto se logra ya que a cada \n",
    "letra se le da un valor desde A=1 hasta la Z= 26. con la variable puntos la inicializamos en cero y la dejamos para \n",
    "qiue nos retorne el puntaje de la palabra. Y con un Ciclo for se suma este valor y dado que tome todas las etras en mayuscula, si el usuario las ingresa\n",
    "en minuscula con .upper esto toma todo como mausculas o las convierte en \n",
    "mayuscula.\n",
    "\n"
   ]
  },
  {
   "cell_type": "code",
   "execution_count": 2,
   "metadata": {},
   "outputs": [
    {
     "name": "stdout",
     "output_type": "stream",
     "text": [
      "El valor total de la palabra 'leonardo' es: 82\n"
     ]
    }
   ],
   "source": [
    "def puntos_palabra(palabra):\n",
    "    \n",
    "    valores_letra = {'A':1, 'B':2, 'C':3, 'D':4, 'E':5, 'F':5, 'G':6, 'H':7,\n",
    "    'I':8, 'J':9, 'K':10, 'L':11, 'M':12, 'N':13, 'Ñ':14, 'O':15, 'P':16, \n",
    "    'Q':17, 'R':18, 'S':19, 'T':20, 'U':21, 'V':22, 'W':23, 'X':24, 'Y':25,\n",
    "    'Z':26 }\n",
    "\n",
    "    puntos = 0 # Este nos tomara la suma del total de las letras.\n",
    "\n",
    "    for letra in palabra.upper():\n",
    "        if letra in valores_letra:\n",
    "            puntos += valores_letra[letra]\n",
    "\n",
    "    return puntos\n",
    "\n",
    "# Pedimos al usuario que ingrese una palabra\n",
    "palabra_ingresada = input(\"Ingrese una palabra: \")\n",
    "\n",
    "# Calculamos y mostramos el valor total\n",
    "total_puntos = puntos_palabra(palabra_ingresada)# Llamo nuevamente la funcion pero con la variale donde se ingresa la pabra.\n",
    "print(f\"El valor total de la palabra '{palabra_ingresada}' es: {total_puntos}\")\n",
    "\n",
    "\n"
   ]
  },
  {
   "cell_type": "markdown",
   "metadata": {},
   "source": [
    "# Ejercicio 2\n",
    "\n",
    "## Simulador de Clima"
   ]
  },
  {
   "cell_type": "code",
   "execution_count": 1,
   "metadata": {},
   "outputs": [
    {
     "name": "stdout",
     "output_type": "stream",
     "text": [
      "El día 1 tiene una temperatura de: 25.0° y llovera.\n",
      "El día 2 tiene una temperatura de: 25.2° y No va a llover.\n",
      "El día 3 tiene una temperatura de: 25.0° y llovera.\n",
      "El día 4 tiene una temperatura de: 25.2° y No va a llover.\n",
      "El día 5 tiene una temperatura de: 25.0° y llovera.\n",
      "La mayor temperatura en el periodo de tiempo de 5 días es de: 25.2°\n",
      "La menor temperatura en el periodo de tiempo de 5 días es de: 25.0°\n",
      "Lloverá en 3 días.\n",
      "No lloverá en 2 días.\n"
     ]
    }
   ],
   "source": [
    "def predecir_lluvia(temp, prob_lluvia, dia):\n",
    "\n",
    "    \"\"\"Predice si lloverá en un día dado.\"\"\"\n",
    "\n",
    "    if prob_lluvia >= 100:\n",
    "        return True # asume que llovera 100%.\n",
    "    elif temp > 25: \n",
    "        if dia % 2 == 0 or dia % 7 == 0:\n",
    "            prob_lluvia -= 0.2 * prob_lluvia # Reduce la probabilidad de lluvia.\n",
    "        else:\n",
    "            prob_lluvia += 0.2 * prob_lluvia # Aumenta La probabilidad de lluvia.\n",
    "    elif temp < 5:\n",
    "        prob_lluvia -= 0.2 * prob_lluvia # Aumenta si la probabilidad de lluvia si la temp es menor a 5°.\n",
    "    return prob_lluvia > 70\n",
    "\n",
    "def actualizar_temperatura(temp, dia): # actualiza la temperatura para el siguiente día, simulando variaciones térmicas.\n",
    "\n",
    "    \"\"\"Actualiza la temperatura según el día.\"\"\"\n",
    "    if dia % 2 == 0 or dia % 5 == 0: \n",
    "        return temp - 0.2 # actualiza la temp si disminuye.\n",
    "    else:\n",
    "        return temp + 0.2 # actualiza la temp si aumenta.\n",
    "\n",
    "def prediccionClima(tempInicial, probLluvia, dias): # funicion para prediccion clima aca se le dan los valores predeterminados para los calculos.\n",
    "                                                    # Es donde se da la simulacion.\n",
    "    \"\"\"Simula una predicción climática.\"\"\"\n",
    "    temp_menor = tempInicial\n",
    "    temp_mayor = tempInicial\n",
    "    cont_lluvia = 0\n",
    "    cont_nolluvia = 0\n",
    "\n",
    "    for dia in range(1, dias + 1):\n",
    "        llovera = predecir_lluvia(tempInicial, probLluvia, dia)\n",
    "        if llovera:\n",
    "            print(f\"El día {dia} tiene una temperatura de: {tempInicial:.1f}° y llovera.\")\n",
    "            cont_lluvia += 1\n",
    "        else:\n",
    "            print(f\"El día {dia} tiene una temperatura de: {tempInicial:.1f}° y No va a llover.\")\n",
    "            cont_nolluvia += 1\n",
    "\n",
    "        if tempInicial < temp_menor:\n",
    "            temp_menor = tempInicial\n",
    "        if tempInicial > temp_mayor:\n",
    "            temp_mayor = tempInicial\n",
    "\n",
    "        tempInicial = actualizar_temperatura(tempInicial, dia)\n",
    "\n",
    "    print(f\"La mayor temperatura en el periodo de tiempo de {dias} días es de: {temp_mayor:.1f}°\")\n",
    "    print(f\"La menor temperatura en el periodo de tiempo de {dias} días es de: {temp_menor:.1f}°\")\n",
    "    print(f\"Lloverá en {cont_lluvia} días.\")\n",
    "    print(f\"No lloverá en {cont_nolluvia} días.\")\n",
    "\n",
    "prediccionClima(25, 71, 5) # Se llama la funcion y se le dan los valores de temp,% de probade lluvia y Numero de dias."
   ]
  },
  {
   "cell_type": "markdown",
   "metadata": {},
   "source": [
    "\n",
    "# Ejercicio 3\n",
    "##  El Caracter Infiltrado."
   ]
  },
  {
   "cell_type": "code",
   "execution_count": null,
   "metadata": {},
   "outputs": [
    {
     "name": "stdout",
     "output_type": "stream",
     "text": [
      "['a', 'e', 'e', 'o']\n"
     ]
    }
   ],
   "source": [
    "def comparar_cadenas(cadena1, cadena2):\n",
    "\n",
    "    diferencias = []\n",
    "    for i in range(len(cadena1)):\n",
    "        if cadena1[i] != cadena2[i]: # verifica si el carácter en la posición i de la cadena1 es diferente al carácter en la misma posición de la cadena2.\n",
    "            diferencias.append(cadena1[i]) # Si los caracteres son diferentes, se agrega el carácter de la cadena1 a la lista diferencias.\n",
    "            diferencias.append(cadena2[i]) # También se agrega el carácter de la cadena2 a la lista diferencias.\n",
    "    return diferencias\n",
    "\n",
    "# Ejemplo de uso:\n",
    "cadena1 = \"me llamo mouredev\" \n",
    "cadena2 = \"me llemo mouredov\"\n",
    "resultado = comparar_cadenas(cadena1, cadena2) # se llama nuevamente la funcion,para que no smuestre el resultado.\n",
    "print(resultado)  # Salida: ['e', 'o']\n",
    "\n",
    "\n"
   ]
  }
 ],
 "metadata": {
  "kernelspec": {
   "display_name": "Python 3",
   "language": "python",
   "name": "python3"
  },
  "language_info": {
   "codemirror_mode": {
    "name": "ipython",
    "version": 3
   },
   "file_extension": ".py",
   "mimetype": "text/x-python",
   "name": "python",
   "nbconvert_exporter": "python",
   "pygments_lexer": "ipython3",
   "version": "3.11.9"
  }
 },
 "nbformat": 4,
 "nbformat_minor": 2
}
